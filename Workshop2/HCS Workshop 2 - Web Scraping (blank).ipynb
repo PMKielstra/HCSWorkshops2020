{
 "cells": [
  {
   "cell_type": "markdown",
   "metadata": {},
   "source": [
    "# HCS Workshop 2, Web Scraping\n",
    "\n",
    "Author: Michael Kielstra\n",
    "\n",
    "The first thing I needed for this assignment was an interesting dataset to scrape.  I couldn't think of any off the top of my head, and I didn't want to Google \"interesting data\" because so much of that is depressing these days.  I was stuck.  But then I realized that there were more people than just me doing this comp process, and they would all go online and find data sources.  So I built a scraper to build a list of everyone who had forked the `wcooper90/HCSWorkshops2020` GitHub repo, find all the URLs in their projects, and scrape each one."
   ]
  },
  {
   "cell_type": "code",
   "execution_count": 14,
   "metadata": {},
   "outputs": [],
   "source": [
    "# Include a URL with a table in it, to test that the code is able to find it once this notebook is committed to the repo.\n",
    "# 'https://developer.mozilla.org/en-US/docs/Learn/HTML/Tables/Basics'"
   ]
  },
  {
   "cell_type": "code",
   "execution_count": 1,
   "metadata": {},
   "outputs": [],
   "source": [
    "# import requests package and set up page\n",
    "\n",
    "import requests\n",
    "page = requests.get('https://github.com/wcooper90/HCSWorkshops2020/network/members')"
   ]
  },
  {
   "cell_type": "code",
   "execution_count": 2,
   "metadata": {},
   "outputs": [],
   "source": [
    "# import BeautifulSoup and make a \"BeautifulSoup object\"\n",
    "# sudo apt-get install python-bs4\n",
    "from bs4 import BeautifulSoup\n",
    "soup = BeautifulSoup(page.content, 'html.parser')"
   ]
  },
  {
   "cell_type": "code",
   "execution_count": 3,
   "metadata": {},
   "outputs": [],
   "source": [
    "network = soup.find(id='network')\n",
    "repos = map(lambda a: a['href'], network.find_all('a', text='HCSWorkshops2020'))"
   ]
  },
  {
   "cell_type": "code",
   "execution_count": 4,
   "metadata": {},
   "outputs": [],
   "source": [
    "import time\n",
    "def map_process(iterable, process_func):\n",
    "    results = []\n",
    "    for i in iterable:\n",
    "        results += [k for k in process_func(i) if k not in results]\n",
    "        time.sleep(0.5)\n",
    "    return results"
   ]
  },
  {
   "cell_type": "code",
   "execution_count": 5,
   "metadata": {},
   "outputs": [],
   "source": [
    "import re\n",
    "def process_repo(repo):\n",
    "    repopage = requests.get(f'https://github.com{repo}/tree/master/Workshop2')\n",
    "    reposoup = BeautifulSoup(repopage.content, 'html.parser')\n",
    "    fileslist = reposoup.find_all(\"a\", text=re.compile('\\\\.ipynb'))\n",
    "    return map(lambda a: a['href'].replace('/blob', ''), fileslist)"
   ]
  },
  {
   "cell_type": "code",
   "execution_count": 6,
   "metadata": {},
   "outputs": [],
   "source": [
    "notebooks = map_process(repos, process_repo)"
   ]
  },
  {
   "cell_type": "code",
   "execution_count": 7,
   "metadata": {},
   "outputs": [],
   "source": [
    "known_urls = ['https://github.com/wcooper90/HCSWorkshops2020/network/members', 'https://github.com{repo}/tree/master/Workshop2', 'https://raw.githubusercontent.com{notebook}', 'https://beautiful-soup-4.readthedocs.io/en/latest/', 'https://www.dataquest.io/blog/web-scraping-tutorial-python/', 'http://dataquestio.github.io/web-scraping-pages/simple.html', 'https://docs.python.org/3/library/re.html', 'https://stackoverflow.com/questions/47928608/how-to-use-beautifulsoup-to-parse-google-search-results-in-python', 'https://google.com/search?q=']\n",
    "link_regex = re.compile('http[^\\\\\\\\ \\'\"]+')\n",
    "def process_notebook(notebook):\n",
    "    notebookpage = requests.get(f'https://raw.githubusercontent.com{notebook}')\n",
    "    dataset_urls = []\n",
    "    for dataset_url in re.findall(link_regex, notebookpage.text):\n",
    "        if dataset_url not in known_urls:\n",
    "            dataset_urls.append(dataset_url)\n",
    "    return dataset_urls"
   ]
  },
  {
   "cell_type": "code",
   "execution_count": 8,
   "metadata": {},
   "outputs": [],
   "source": [
    "dataset_urls = map_process(notebooks, process_notebook)"
   ]
  },
  {
   "cell_type": "code",
   "execution_count": 9,
   "metadata": {},
   "outputs": [],
   "source": [
    "def rank_table(table):\n",
    "    cells = table.find_all(\"td\")\n",
    "    if cells:\n",
    "        return len(cells)\n",
    "    return 0\n",
    "\n",
    "def process_dataset_url(dataset_url):\n",
    "    datasetpage = requests.get(dataset_url)\n",
    "    datasetsoup = BeautifulSoup(datasetpage.content, 'html.parser')\n",
    "    tables = datasetsoup.find_all(\"table\")\n",
    "    if not tables:\n",
    "        return []\n",
    "    best_table = max(tables, key=rank_table)\n",
    "    return [(best_table, datasetsoup.title.text)] # Return the table with the most cells, on the not unreasonable assumption that this is the table with the actual data."
   ]
  },
  {
   "cell_type": "code",
   "execution_count": 10,
   "metadata": {},
   "outputs": [],
   "source": [
    "tables_with_titles = map_process(dataset_urls, process_dataset_url)"
   ]
  },
  {
   "cell_type": "code",
   "execution_count": 11,
   "metadata": {},
   "outputs": [],
   "source": [
    "import pandas as pd\n",
    "def process_table_with_title(table_with_title):\n",
    "    df = pd.read_html(str(table_with_title[0]))[0]\n",
    "    return (df, table_with_title[1])"
   ]
  },
  {
   "cell_type": "code",
   "execution_count": 12,
   "metadata": {},
   "outputs": [],
   "source": [
    "dataframes_with_titles = map(process_table_with_title, tables_with_titles)"
   ]
  },
  {
   "cell_type": "code",
   "execution_count": 13,
   "metadata": {},
   "outputs": [
    {
     "name": "stdout",
     "output_type": "stream",
     "text": [
      "Stock Quotes | Stock Charts | Quote Prices | Markets Insider\n"
     ]
    },
    {
     "data": {
      "text/html": [
       "<div>\n",
       "<style scoped>\n",
       "    .dataframe tbody tr th:only-of-type {\n",
       "        vertical-align: middle;\n",
       "    }\n",
       "\n",
       "    .dataframe tbody tr th {\n",
       "        vertical-align: top;\n",
       "    }\n",
       "\n",
       "    .dataframe thead th {\n",
       "        text-align: right;\n",
       "    }\n",
       "</style>\n",
       "<table border=\"1\" class=\"dataframe\">\n",
       "  <thead>\n",
       "    <tr style=\"text-align: right;\">\n",
       "      <th></th>\n",
       "      <th>Name</th>\n",
       "      <th>Price</th>\n",
       "      <th>Unnamed: 2</th>\n",
       "      <th>%</th>\n",
       "      <th>+/-</th>\n",
       "      <th>Date</th>\n",
       "    </tr>\n",
       "  </thead>\n",
       "  <tbody>\n",
       "    <tr>\n",
       "      <th>0</th>\n",
       "      <td>IBM</td>\n",
       "      <td>132.50</td>\n",
       "      <td>NaN</td>\n",
       "      <td>6.79 %</td>\n",
       "      <td>8.43</td>\n",
       "      <td>11:16:29 AM</td>\n",
       "    </tr>\n",
       "    <tr>\n",
       "      <th>1</th>\n",
       "      <td>Travelers Cos</td>\n",
       "      <td>115.76</td>\n",
       "      <td>NaN</td>\n",
       "      <td>1.72 %</td>\n",
       "      <td>1.96</td>\n",
       "      <td>11:16:02 AM</td>\n",
       "    </tr>\n",
       "    <tr>\n",
       "      <th>2</th>\n",
       "      <td>American Express</td>\n",
       "      <td>105.12</td>\n",
       "      <td>NaN</td>\n",
       "      <td>1.68 %</td>\n",
       "      <td>1.74</td>\n",
       "      <td>11:15:54 AM</td>\n",
       "    </tr>\n",
       "    <tr>\n",
       "      <th>3</th>\n",
       "      <td>Intel</td>\n",
       "      <td>53.52</td>\n",
       "      <td>NaN</td>\n",
       "      <td>1.61 %</td>\n",
       "      <td>0.85</td>\n",
       "      <td>11:16:28 AM</td>\n",
       "    </tr>\n",
       "    <tr>\n",
       "      <th>4</th>\n",
       "      <td>Merck</td>\n",
       "      <td>81.25</td>\n",
       "      <td>NaN</td>\n",
       "      <td>1.51 %</td>\n",
       "      <td>1.21</td>\n",
       "      <td>11:16:27 AM</td>\n",
       "    </tr>\n",
       "    <tr>\n",
       "      <th>5</th>\n",
       "      <td>Home Depot</td>\n",
       "      <td>282.66</td>\n",
       "      <td>NaN</td>\n",
       "      <td>-0.05 %</td>\n",
       "      <td>-0.13</td>\n",
       "      <td>11:14:55 AM</td>\n",
       "    </tr>\n",
       "    <tr>\n",
       "      <th>6</th>\n",
       "      <td>Unitedhealth Gro</td>\n",
       "      <td>322.54</td>\n",
       "      <td>NaN</td>\n",
       "      <td>-0.19 %</td>\n",
       "      <td>-0.63</td>\n",
       "      <td>11:16:35 AM</td>\n",
       "    </tr>\n",
       "    <tr>\n",
       "      <th>7</th>\n",
       "      <td>McDonald's</td>\n",
       "      <td>225.91</td>\n",
       "      <td>NaN</td>\n",
       "      <td>-0.25 %</td>\n",
       "      <td>-0.57</td>\n",
       "      <td>11:16:00 AM</td>\n",
       "    </tr>\n",
       "    <tr>\n",
       "      <th>8</th>\n",
       "      <td>Verizon Comm</td>\n",
       "      <td>59.09</td>\n",
       "      <td>NaN</td>\n",
       "      <td>-0.87 %</td>\n",
       "      <td>-0.52</td>\n",
       "      <td>11:16:35 AM</td>\n",
       "    </tr>\n",
       "    <tr>\n",
       "      <th>9</th>\n",
       "      <td>Amgen</td>\n",
       "      <td>245.00</td>\n",
       "      <td>NaN</td>\n",
       "      <td>-4.92 %</td>\n",
       "      <td>-12.67</td>\n",
       "      <td>11:16:21 AM</td>\n",
       "    </tr>\n",
       "  </tbody>\n",
       "</table>\n",
       "</div>"
      ],
      "text/plain": [
       "               Name   Price  Unnamed: 2        %    +/-         Date\n",
       "0               IBM  132.50         NaN   6.79 %   8.43  11:16:29 AM\n",
       "1     Travelers Cos  115.76         NaN   1.72 %   1.96  11:16:02 AM\n",
       "2  American Express  105.12         NaN   1.68 %   1.74  11:15:54 AM\n",
       "3             Intel   53.52         NaN   1.61 %   0.85  11:16:28 AM\n",
       "4             Merck   81.25         NaN   1.51 %   1.21  11:16:27 AM\n",
       "5        Home Depot  282.66         NaN  -0.05 %  -0.13  11:14:55 AM\n",
       "6  Unitedhealth Gro  322.54         NaN  -0.19 %  -0.63  11:16:35 AM\n",
       "7        McDonald's  225.91         NaN  -0.25 %  -0.57  11:16:00 AM\n",
       "8      Verizon Comm   59.09         NaN  -0.87 %  -0.52  11:16:35 AM\n",
       "9             Amgen  245.00         NaN  -4.92 % -12.67  11:16:21 AM"
      ]
     },
     "metadata": {},
     "output_type": "display_data"
    },
    {
     "name": "stdout",
     "output_type": "stream",
     "text": [
      "National Weather Service\n"
     ]
    },
    {
     "data": {
      "text/html": [
       "<div>\n",
       "<style scoped>\n",
       "    .dataframe tbody tr th:only-of-type {\n",
       "        vertical-align: middle;\n",
       "    }\n",
       "\n",
       "    .dataframe tbody tr th {\n",
       "        vertical-align: top;\n",
       "    }\n",
       "\n",
       "    .dataframe thead th {\n",
       "        text-align: right;\n",
       "    }\n",
       "</style>\n",
       "<table border=\"1\" class=\"dataframe\">\n",
       "  <thead>\n",
       "    <tr style=\"text-align: right;\">\n",
       "      <th></th>\n",
       "      <th>0</th>\n",
       "      <th>1</th>\n",
       "    </tr>\n",
       "  </thead>\n",
       "  <tbody>\n",
       "    <tr>\n",
       "      <th>0</th>\n",
       "      <td>Humidity</td>\n",
       "      <td>81%</td>\n",
       "    </tr>\n",
       "    <tr>\n",
       "      <th>1</th>\n",
       "      <td>Wind Speed</td>\n",
       "      <td>NA NA MPH</td>\n",
       "    </tr>\n",
       "    <tr>\n",
       "      <th>2</th>\n",
       "      <td>Barometer</td>\n",
       "      <td>NaN</td>\n",
       "    </tr>\n",
       "    <tr>\n",
       "      <th>3</th>\n",
       "      <td>Dewpoint</td>\n",
       "      <td>52°F (11°C)</td>\n",
       "    </tr>\n",
       "    <tr>\n",
       "      <th>4</th>\n",
       "      <td>Visibility</td>\n",
       "      <td>NaN</td>\n",
       "    </tr>\n",
       "    <tr>\n",
       "      <th>5</th>\n",
       "      <td>Last update</td>\n",
       "      <td>08 Oct 07:43 AM PDT</td>\n",
       "    </tr>\n",
       "  </tbody>\n",
       "</table>\n",
       "</div>"
      ],
      "text/plain": [
       "             0                    1\n",
       "0     Humidity                  81%\n",
       "1   Wind Speed            NA NA MPH\n",
       "2    Barometer                  NaN\n",
       "3     Dewpoint          52°F (11°C)\n",
       "4   Visibility                  NaN\n",
       "5  Last update  08 Oct 07:43 AM PDT"
      ]
     },
     "metadata": {},
     "output_type": "display_data"
    }
   ],
   "source": [
    "from IPython.display import display\n",
    "for (df, title) in list(dataframes_with_titles):\n",
    "    print(title)\n",
    "    display(df)"
   ]
  }
 ],
 "metadata": {
  "kernelspec": {
   "display_name": "Python 3",
   "language": "python",
   "name": "python3"
  },
  "language_info": {
   "codemirror_mode": {
    "name": "ipython",
    "version": 3
   },
   "file_extension": ".py",
   "mimetype": "text/x-python",
   "name": "python",
   "nbconvert_exporter": "python",
   "pygments_lexer": "ipython3",
   "version": "3.8.5"
  }
 },
 "nbformat": 4,
 "nbformat_minor": 4
}
